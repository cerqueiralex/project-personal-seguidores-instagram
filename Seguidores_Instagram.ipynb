{
  "nbformat": 4,
  "nbformat_minor": 0,
  "metadata": {
    "colab": {
      "provenance": []
    },
    "kernelspec": {
      "name": "python3",
      "display_name": "Python 3"
    },
    "language_info": {
      "name": "python"
    }
  },
  "cells": [
    {
      "cell_type": "markdown",
      "source": [
        "# Análise Inicial"
      ],
      "metadata": {
        "id": "W6Vp7Yd2jzny"
      }
    },
    {
      "cell_type": "code",
      "execution_count": null,
      "metadata": {
        "id": "sNLkDFXRVrDd"
      },
      "outputs": [],
      "source": [
        "import pandas as pd\n",
        "import json"
      ]
    },
    {
      "cell_type": "code",
      "source": [
        "# Importar Following\n",
        "data_following = '/content/following.json'\n",
        "following = pd.read_json(data_following)\n",
        "following.head()"
      ],
      "metadata": {
        "id": "EeiH6XaaW3M_"
      },
      "execution_count": null,
      "outputs": []
    },
    {
      "cell_type": "code",
      "source": [
        "print(following.columns)"
      ],
      "metadata": {
        "id": "vEPLeIK3gYwV"
      },
      "execution_count": null,
      "outputs": []
    },
    {
      "cell_type": "code",
      "source": [
        "# Convert JSON to a pandas DataFrame\n",
        "following = pd.json_normalize(following['relationships_following'], 'string_list_data')\n",
        "following = following.drop(columns=['href','timestamp'])\n",
        "following.head()"
      ],
      "metadata": {
        "id": "zhzoChQxcYcf"
      },
      "execution_count": null,
      "outputs": []
    },
    {
      "cell_type": "code",
      "source": [
        "# Importar Followers\n",
        "data_followers = '/content/followers_1.json'\n",
        "followers = pd.read_json(data_followers)\n",
        "followers.head()"
      ],
      "metadata": {
        "id": "PG12EpP3fskN"
      },
      "execution_count": null,
      "outputs": []
    },
    {
      "cell_type": "code",
      "source": [
        "print(followers.columns)"
      ],
      "metadata": {
        "id": "TX0mvxkggRI8"
      },
      "execution_count": null,
      "outputs": []
    },
    {
      "cell_type": "code",
      "source": [
        "followers = pd.json_normalize(followers['string_list_data'])\n",
        "followers.head()\n",
        "followers_clean = pd.json_normalize(followers[0])\n",
        "followers_clean = followers_clean.drop(columns=['href','timestamp'])\n",
        "followers_clean.head()"
      ],
      "metadata": {
        "id": "02OVodPthhKZ"
      },
      "execution_count": null,
      "outputs": []
    },
    {
      "cell_type": "code",
      "source": [
        "# Step 1: Check if elements in df2 exist in df1\n",
        "df_filtered = following[~following['value'].isin(followers_clean['value'])]"
      ],
      "metadata": {
        "id": "s810yuH2Ixwh"
      },
      "execution_count": null,
      "outputs": []
    },
    {
      "cell_type": "code",
      "source": [
        "# Step 2: Reset the index of the filtered DataFrame (optional, for cleaner output)\n",
        "df_filtered = df_filtered.reset_index(drop=True)\n",
        "df_filtered = df_filtered.sort_values(by=['value'], ascending=[True])"
      ],
      "metadata": {
        "id": "e6PuAZCZI_Ir"
      },
      "execution_count": null,
      "outputs": []
    },
    {
      "cell_type": "code",
      "source": [
        "pd.set_option('display.max_rows', None)"
      ],
      "metadata": {
        "id": "OZc0ZJHvO1JQ"
      },
      "execution_count": null,
      "outputs": []
    },
    {
      "cell_type": "code",
      "source": [
        "# Display the filtered DataFrame\n",
        "num_resultados = str(len(df_filtered))\n",
        "print(\"Você tem um total de \"+ num_resultados +\" usuários que você segue mas não te seguem de volta:\")\n",
        "print(df_filtered)"
      ],
      "metadata": {
        "id": "GcWZfwd2JAhs"
      },
      "execution_count": null,
      "outputs": []
    },
    {
      "cell_type": "code",
      "source": [
        "final_table = pd.concat([followers_clean, df], axis=1)\n",
        "final_table.columns = ['followers', 'following']\n",
        "final_table = final_table.sort_values(by=['followers', 'following'], ascending=[True,True])\n",
        "print(final_table)"
      ],
      "metadata": {
        "id": "QgAHZ1czkpof"
      },
      "execution_count": null,
      "outputs": []
    },
    {
      "cell_type": "code",
      "source": [
        "final_table.to_csv('final_table.csv', index=False)"
      ],
      "metadata": {
        "id": "Te6GpHVYmUDa"
      },
      "execution_count": null,
      "outputs": []
    },
    {
      "cell_type": "markdown",
      "source": [
        "# Código Limpo"
      ],
      "metadata": {
        "id": "4qjZJcwoj59E"
      }
    },
    {
      "cell_type": "markdown",
      "source": [
        "## Oficial"
      ],
      "metadata": {
        "id": "eAYJdOTHajE4"
      }
    },
    {
      "cell_type": "markdown",
      "source": [
        "# Instagram app\n",
        "\n",
        "1. Instagram App >\n",
        "2. Configurações e atividade >\n",
        "3. Baixar suas informações\n",
        "4. [Atividade Atual] > Baixar ou transferir informações\n",
        "5. Algumas das suaas informações\n",
        "6. Seguidores e seguindo >\n",
        "7. Transferir para o destino > Google Drive | Frequência = Uma vez\n",
        "8. Conecta no Google Drive\n",
        "9. Intervalo de datas \"Desde o início\" | Formato \"JSON\" | Qualidade \"Alta\""
      ],
      "metadata": {
        "id": "6bmZrFQ8Po_b"
      }
    },
    {
      "cell_type": "code",
      "source": [
        "#  Versão 2: Entrega o resultado pronto\n",
        "\n",
        "import pandas as pd\n",
        "import json\n",
        "pd.set_option('display.max_rows', None)\n",
        "# Importar Following\n",
        "data_following = '/content/following.json'\n",
        "following = pd.read_json(data_following)\n",
        "# Convert JSON to a pandas DataFrame\n",
        "following = pd.json_normalize(following['relationships_following'], 'string_list_data')\n",
        "following = following.drop(columns=['href','timestamp'])\n",
        "# Importar Followers\n",
        "data_followers = '/content/followers_1.json'\n",
        "followers = pd.read_json(data_followers)\n",
        "# Limpar Followers\n",
        "followers = pd.json_normalize(followers['string_list_data'])\n",
        "followers_clean = pd.json_normalize(followers[0])\n",
        "followers_clean = followers_clean.drop(columns=['href','timestamp'])\n",
        "# Step 1: Check if elements in df2 exist in df1\n",
        "df_filtered = following[~following['value'].isin(followers_clean['value'])]\n",
        "# Step 2: Reset the index of the filtered DataFrame (optional, for cleaner output)\n",
        "df_filtered = df_filtered.reset_index(drop=True)\n",
        "df_filtered = df_filtered.sort_values(by=['value'], ascending=[True])\n",
        "num_resultados = str(len(df_filtered))\n",
        "df_filtered = df_filtered.rename(columns={'value': 'Você tem um total de '+ num_resultados +' usuários que você segue mas não te seguem de volta:'})\n",
        "# Exportando o resultado final:\n",
        "df_filtered.to_csv('resultados.csv', index=False)\n",
        "print(df_filtered)"
      ],
      "metadata": {
        "id": "A9YlqCSWJpDk"
      },
      "execution_count": null,
      "outputs": []
    },
    {
      "cell_type": "markdown",
      "source": [
        "## Opcionais"
      ],
      "metadata": {
        "id": "WhSJdDDxaqZ-"
      }
    },
    {
      "cell_type": "code",
      "source": [
        "#Versão 1: Gera uma tabela e exporta um csv\n",
        "\n",
        "import pandas as pd\n",
        "import json\n",
        "# Importar Following\n",
        "data_following = '/content/following.json'\n",
        "df = pd.read_json(data_following)\n",
        "# Convert JSON to a pandas DataFrame\n",
        "df = pd.json_normalize(df['relationships_following'], 'string_list_data')\n",
        "df = df.drop(columns=['href','timestamp'])\n",
        "# Importar Followers\n",
        "data_followers = '/content/followers_1.json'\n",
        "followers = pd.read_json(data_followers)\n",
        "# Limpar Followers\n",
        "followers = pd.json_normalize(followers['string_list_data'])\n",
        "followers_clean = pd.json_normalize(followers[0])\n",
        "followers_clean = followers_clean.drop(columns=['href','timestamp'])\n",
        "# Gerar Tabela Final\n",
        "final_table = pd.concat([followers_clean, df], axis=1)\n",
        "final_table.columns = ['followers', 'following']\n",
        "final_table = final_table.sort_values(by=['followers', 'following'], ascending=[True,True])\n",
        "final_table.to_csv('final_table.csv', index=False)"
      ],
      "metadata": {
        "id": "JXT39v62j9iF"
      },
      "execution_count": null,
      "outputs": []
    },
    {
      "cell_type": "code",
      "source": [
        "# Salvar o Dataframe como Imagem PNG (mais acessível)\n",
        "\n",
        "import pandas as pd\n",
        "import matplotlib.pyplot as plt\n",
        "\n",
        "# Plot the DataFrame as a table\n",
        "fig, ax = plt.subplots(figsize=(6, 3))  # Adjust size as needed\n",
        "ax.axis('tight')\n",
        "ax.axis('off')\n",
        "table = ax.table(cellText=df_filtered.values, colLabels=df_filtered.columns, cellLoc='center', loc='center')\n",
        "\n",
        "# Save the table as an image\n",
        "plt.savefig(\"table_image.png\", bbox_inches='tight')\n",
        "print(\"table_image.png\")"
      ],
      "metadata": {
        "id": "zux68uytTQHl"
      },
      "execution_count": null,
      "outputs": []
    }
  ]
}